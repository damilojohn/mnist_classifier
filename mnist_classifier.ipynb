{
 "cells": [
  {
   "cell_type": "code",
   "execution_count": 1,
   "id": "7435558d-7390-4ce4-a095-fea0f198846e",
   "metadata": {
    "collapsed": true,
    "jupyter": {
     "outputs_hidden": true
    },
    "tags": []
   },
   "outputs": [
    {
     "name": "stdout",
     "output_type": "stream",
     "text": [
      "Collecting boto3\n",
      "  Downloading boto3-1.28.15-py3-none-any.whl (135 kB)\n",
      "     ------------------------------------ 135.8/135.8 kB 348.6 kB/s eta 0:00:00\n",
      "Collecting botocore<1.32.0,>=1.31.15\n",
      "  Downloading botocore-1.31.15-py3-none-any.whl (11.1 MB)\n",
      "     ---------------------------------------- 11.1/11.1 MB 1.4 MB/s eta 0:00:00\n",
      "Collecting jmespath<2.0.0,>=0.7.1\n",
      "  Using cached jmespath-1.0.1-py3-none-any.whl (20 kB)\n",
      "Collecting s3transfer<0.7.0,>=0.6.0\n",
      "  Using cached s3transfer-0.6.1-py3-none-any.whl (79 kB)\n",
      "Requirement already satisfied: python-dateutil<3.0.0,>=2.1 in c:\\users\\user\\.conda\\envs\\torch\\lib\\site-packages (from botocore<1.32.0,>=1.31.15->boto3) (2.8.2)\n",
      "Requirement already satisfied: urllib3<1.27,>=1.25.4 in c:\\users\\user\\.conda\\envs\\torch\\lib\\site-packages (from botocore<1.32.0,>=1.31.15->boto3) (1.26.10)\n",
      "Requirement already satisfied: six>=1.5 in c:\\users\\user\\.conda\\envs\\torch\\lib\\site-packages (from python-dateutil<3.0.0,>=2.1->botocore<1.32.0,>=1.31.15->boto3) (1.16.0)\n",
      "Installing collected packages: jmespath, botocore, s3transfer, boto3\n",
      "Successfully installed boto3-1.28.15 botocore-1.31.15 jmespath-1.0.1 s3transfer-0.6.1\n",
      "\n",
      "[notice] A new release of pip available: 22.1.2 -> 23.2.1\n",
      "[notice] To update, run: python.exe -m pip install --upgrade pip\n",
      "Note: you may need to restart the kernel to use updated packages.\n"
     ]
    }
   ],
   "source": [
    "%pip install boto3"
   ]
  },
  {
   "cell_type": "code",
   "execution_count": 9,
   "id": "0a73c7f7-8e5c-4ac5-b597-d10b1c22b49d",
   "metadata": {},
   "outputs": [],
   "source": [
    "from sklearn.datasets import fetch_openml\n",
    "import pandas as pd \n",
    "import matplotlib.pyplot as plt "
   ]
  },
  {
   "cell_type": "code",
   "execution_count": 10,
   "id": "4a1ab318-2ec2-4298-b580-5887cb69fbfe",
   "metadata": {},
   "outputs": [],
   "source": [
    "#load data \n",
    "mnist = fetch_openml('mnist_784',version=1)"
   ]
  },
  {
   "cell_type": "code",
   "execution_count": 11,
   "id": "7055c11c-c9f6-4295-aa70-bf22ff005af3",
   "metadata": {},
   "outputs": [],
   "source": [
    "mnist_data = (\n",
    "    mnist.data.sample(\n",
    "        n=20000,random_state=7,axis=0,replace=False\n",
    "    )\n",
    ")"
   ]
  },
  {
   "cell_type": "code",
   "execution_count": 12,
   "id": "1dc1aa71-6447-4104-adfe-f3ab035f1932",
   "metadata": {},
   "outputs": [],
   "source": [
    "#creating target varaible \n",
    "target = (\n",
    "    mnist.target.loc[mnist_data.index].astype('uint8')\n",
    ")"
   ]
  },
  {
   "cell_type": "code",
   "execution_count": 16,
   "id": "3f3fe614-c1d2-4add-b64d-94999f7a8d3e",
   "metadata": {},
   "outputs": [
    {
     "data": {
      "text/plain": [
       "(-0.5, 27.5, 27.5, -0.5)"
      ]
     },
     "execution_count": 16,
     "metadata": {},
     "output_type": "execute_result"
    },
    {
     "data": {
      "image/png": "[encoded data removed]",
      "text/plain": [
       "<Figure size 432x288 with 1 Axes>"
      ]
     },
     "metadata": {
      "needs_background": "light"
     },
     "output_type": "display_data"
    }
   ],
   "source": [
    "some_digit = (\n",
    "    mnist_data.iloc[0]\n",
    "    .values\n",
    "    .reshape(28,28)\n",
    "    .astype('float32')   \n",
    ")\n",
    "plt.imshow(some_digit,cmap='binary')\n",
    "plt.axis('off')"
   ]
  },
  {
   "cell_type": "code",
   "execution_count": 14,
   "id": "ee350057-4419-4a23-ba6d-568cbfb98615",
   "metadata": {},
   "outputs": [],
   "source": [
    "from sklearn.model_selection import train_test_split\n",
    "from sklearn.neighbors import KNeighborsClassifier \n",
    "from sklearn.model_selection import cross_val_score\n",
    "import numpy as np "
   ]
  },
  {
   "cell_type": "code",
   "execution_count": 12,
   "id": "7028a18e-3286-4e92-8da2-88aaef06bbf9",
   "metadata": {},
   "outputs": [],
   "source": [
    "def train_knn_model(features,target):\n",
    "    knn_model = KNeighborsClassifier(weights='distance',n_neighbors=4)\n",
    "    knn_model.fit(features,target)\n",
    "    scores = cross_val_score(\n",
    "        knn_model,features,target,scoring='accuracy',cv=10)\n",
    "    print(f'cross validation score - accuracy  :{scores}')\n",
    "    print(f'average accuracy score : {np.mean(scores)}')\n",
    "    return knn_model,scores "
   ]
  },
  {
   "cell_type": "code",
   "execution_count": 15,
   "id": "b5036478-62b6-4b58-807e-19c13520477e",
   "metadata": {},
   "outputs": [],
   "source": [
    "train_features,test_features,train_targets,test_targets = train_test_split(\n",
    "    mnist_data,target,test_size=0.2,random_state=7)"
   ]
  },
  {
   "cell_type": "code",
   "execution_count": null,
   "id": "465adab6-75ee-4f1e-9c0f-7ecb8b4450e1",
   "metadata": {},
   "outputs": [],
   "source": [
    "model,scores = train_knn_model(train_features,train_targets)"
   ]
  },
  {
   "cell_type": "code",
   "execution_count": 27,
   "id": "a82800c1-a30c-4070-8e75-463273c42ef6",
   "metadata": {},
   "outputs": [],
   "source": [
    "import numpy as np \n",
    "from sklearn.metrics import confusion_matrix, ConfusionMatrixDisplay\n",
    "from sklearn.metrics import accuracy_score"
   ]
  },
  {
   "cell_type": "code",
   "execution_count": 28,
   "id": "060994c0-514c-4d0f-9b5b-9234a56de1a7",
   "metadata": {},
   "outputs": [],
   "source": [
    "def show_cm(y_true,y_pred,labels):\n",
    "    '''shows confusion matrix'''\n",
    "    conf_mat = confusion_matrix(y_true,y_pred,labels=labels)\n",
    "    disp = ConfusionMatrixDisplay(confusion_matrix=conf_mat,display_labels=labels)\n",
    "    score = accuracy_score(y_true,y_pred)\n",
    "    print(f'Accuracy:{score}')\n",
    "    disp.plot()"
   ]
  },
  {
   "cell_type": "code",
   "execution_count": 29,
   "id": "ccdfd235-facf-40b4-8cac-140143aa7a14",
   "metadata": {},
   "outputs": [],
   "source": [
    "import joblib\n",
    "model = joblib.load('./app/models/knn_model.joblib')"
   ]
  },
  {
   "cell_type": "code",
   "execution_count": 30,
   "id": "6207b0b2-5e01-498a-a18f-5c8bc661f633",
   "metadata": {},
   "outputs": [
    {
     "name": "stdout",
     "output_type": "stream",
     "text": [
      "Accuracy:0.963\n"
     ]
    },
    {
     "data": {
      "image/png": "[encoded data removed]",
      "text/plain": [
       "<Figure size 432x288 with 2 Axes>"
      ]
     },
     "metadata": {
      "needs_background": "light"
     },
     "output_type": "display_data"
    }
   ],
   "source": [
    "test_target_pred = model.predict(test_features)\n",
    "#show confusion_matrix\n"
   ]
  },
  {
   "cell_type": "code",
   "execution_count": null,
   "id": "aa0cf3ee-291d-4e5a-863d-1d91a5076d39",
   "metadata": {},
   "outputs": [],
   "source": []
  },
  {
   "cell_type": "code",
   "execution_count": 31,
   "id": "4d1d12d8-385a-4369-a7d6-74f5aa936cf5",
   "metadata": {},
   "outputs": [
    {
     "data": {
      "text/plain": [
       "['models\\\\knn_model.joblib']"
      ]
     },
     "execution_count": 31,
     "metadata": {},
     "output_type": "execute_result"
    }
   ],
   "source": [
    "#saving our model locally \n",
    "import joblib \n",
    "joblib.dump(model,'app\\models\\knn_model.joblib')"
   ]
  },
  {
   "cell_type": "markdown",
   "id": "b0a74961-e681-426f-902e-0ce5d72b9068",
   "metadata": {},
   "source": [
    "## Initialising the aws s3 bucket"
   ]
  },
  {
   "cell_type": "code",
   "execution_count": 33,
   "id": "b994e670-57dc-461a-a6d3-4f98ecbf71eb",
   "metadata": {},
   "outputs": [
    {
     "data": {
      "text/plain": [
       "{'ResponseMetadata': {'RequestId': 'S8XT8ABTYJEEWBJS',\n",
       "  'HostId': 'BLXaKfWjYNgx/wdScLOLl1fCtknADMbjk44wighi/UVTvl+iOQsq5RhV+6DIKIbc78gaCCltRW8=',\n",
       "  'HTTPStatusCode': 200,\n",
       "  'HTTPHeaders': {'x-amz-id-2': 'BLXaKfWjYNgx/wdScLOLl1fCtknADMbjk44wighi/UVTvl+iOQsq5RhV+6DIKIbc78gaCCltRW8=',\n",
       "   'x-amz-request-id': 'S8XT8ABTYJEEWBJS',\n",
       "   'date': 'Mon, 31 Jul 2023 08:30:21 GMT',\n",
       "   'location': 'http://mnist-lambda-bucket.s3.amazonaws.com/',\n",
       "   'server': 'AmazonS3',\n",
       "   'content-length': '0'},\n",
       "  'RetryAttempts': 0},\n",
       " 'Location': 'http://mnist-lambda-bucket.s3.amazonaws.com/'}"
      ]
     },
     "execution_count": 33,
     "metadata": {},
     "output_type": "execute_result"
    }
   ],
   "source": [
    "import boto3 \n",
    "\n",
    "def create_bucket(region,bucket_name):\n",
    "    s3 = boto3.client('s3')\n",
    "    response = s3.create_bucket(\n",
    "        Bucket=bucket_name,\n",
    "        CreateBucketConfiguration={\n",
    "            'LocationConstraint':region\n",
    "        }\n",
    "    )\n",
    "    return response \n",
    "region = 'eu-west-2'\n",
    "bucket_name = 'mnist-lambda-bucket'\n",
    "create_bucket(region,bucket_name)\n"
   ]
  },
  {
   "cell_type": "code",
   "execution_count": 39,
   "id": "2898238e-3bf9-4eff-9d00-ceace3c853b4",
   "metadata": {},
   "outputs": [],
   "source": [
    "#serializing the mnist dataset\n",
    "from io import BytesIO\n",
    "import joblib \n",
    "import boto3 \n",
    "\n",
    "def uploadtoS3(data,bucket,key):\n",
    "    with BytesIO() as f:\n",
    "        joblib.dump(data,f)\n",
    "        f.seek(0)\n",
    "        (\n",
    "            boto3.client('s3')\n",
    "            .upload_fileobj(Bucket=bucket,Key=key,Fileobj=f)\n",
    "        )\n",
    "\n",
    "bucket_name='mnist-lambda-bucket'\n",
    "key = 'validation/test-features.joblib'\n",
    "uploadtoS3(test_features,bucket_name,key)"
   ]
  },
  {
   "cell_type": "code",
   "execution_count": 31,
   "id": "4d0d38f0-3f30-4251-b044-6c81f1ec1645",
   "metadata": {
    "tags": []
   },
   "outputs": [
    {
     "data": {
      "text/plain": [
       "['validation/test-features.joblib']"
      ]
     },
     "execution_count": 31,
     "metadata": {},
     "output_type": "execute_result"
    }
   ],
   "source": [
    "import boto3\n",
    "\n",
    "def listS3Objects(bucket:str) -> list:\n",
    "\n",
    "     # Connect to s3 resource\n",
    "    s3 = boto3.resource('s3')\n",
    "    my_bucket = s3.Bucket(bucket)\n",
    "\n",
    "    # List all object keys in s3 bucket\n",
    "    obj_list = [object_summary.key for object_summary in my_bucket.objects.all()]\n",
    "    return obj_list\n",
    "\n",
    "listS3Objects('mnist-lambda-bucket')"
   ]
  },
  {
   "cell_type": "markdown",
   "id": "dd13ea0c-a859-4cdf-bdf8-032eb83fe973",
   "metadata": {},
   "source": [
    "## Connection to the local endpoint"
   ]
  },
  {
   "cell_type": "code",
   "execution_count": 37,
   "id": "8b36dbb6-262d-4e95-82c3-fd160f39791b",
   "metadata": {},
   "outputs": [
    {
     "name": "stdout",
     "output_type": "stream",
     "text": [
      "Accuracy:0.963\n"
     ]
    },
    {
     "data": {
      "image/png": "[encoded data removed]",
      "text/plain": [
       "<Figure size 432x288 with 2 Axes>"
      ]
     },
     "metadata": {
      "needs_background": "light"
     },
     "output_type": "display_data"
    }
   ],
   "source": [
    "import requests \n",
    "import json \n",
    "import numpy as np \n",
    "\n",
    "bucket_name = 'mnist-lambda-bucket'\n",
    "key = 'validation/test-features.joblib'\n",
    "\n",
    "data = {\n",
    "    'bucket':bucket_name,\n",
    "    'key':key\n",
    "}\n",
    "\n",
    "\n",
    "headers = {\n",
    "    'Content-type':'application/json'\n",
    "}\n",
    "\n",
    "#main code for post HTTP request \n",
    "\n",
    "url = 'https://l62ce503ke.execute-api.eu-west-1.amazonaws.com/dev/predict'\n",
    "response = requests.request('POST',url,headers=headers,data=json.dumps(data))\n",
    "\n",
    "lambda_predictions = np.array(response.json())\n",
    "show_cm(test_targets, lambda_predictions, range(10))\n"
   ]
  },
  {
   "cell_type": "code",
   "execution_count": 33,
   "id": "daa69bdd-14e8-4882-b11b-363db734790c",
   "metadata": {},
   "outputs": [
    {
     "name": "stdout",
     "output_type": "stream",
     "text": [
      "Name: pandas\n",
      "Version: 1.3.5\n",
      "Summary: Powerful data structures for data analysis, time series, and statistics\n",
      "Home-page: https://pandas.pydata.org\n",
      "Author: The Pandas Development Team\n",
      "Author-email: pandas-dev@python.org\n",
      "License: BSD-3-Clause\n",
      "Location: c:\\users\\user\\.conda\\envs\\torch\\lib\\site-packages\n",
      "Requires: numpy, python-dateutil, pytz\n",
      "Required-by: category-encoders, datasets, fastai, gradio, mlflow, seaborn, stable-baselines3, statsmodels, zenml\n"
     ]
    }
   ],
   "source": [
    "!pip show pandas"
   ]
  },
  {
   "cell_type": "code",
   "execution_count": null,
   "id": "9a6fc04f-2794-4c07-8252-8b9b6892882d",
   "metadata": {},
   "outputs": [],
   "source": []
  }
 ],
 "metadata": {
  "kernelspec": {
   "display_name": "Python (torch)",
   "language": "python",
   "name": "torch"
  },
  "language_info": {
   "codemirror_mode": {
    "name": "ipython",
    "version": 3
   },
   "file_extension": ".py",
   "mimetype": "text/x-python",
   "name": "python",
   "nbconvert_exporter": "python",
   "pygments_lexer": "ipython3",
   "version": "3.9.12"
  }
 },
 "nbformat": 4,
 "nbformat_minor": 5
}
